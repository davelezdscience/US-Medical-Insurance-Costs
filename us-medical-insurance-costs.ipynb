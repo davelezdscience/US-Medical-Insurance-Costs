{
 "cells": [
  {
   "cell_type": "markdown",
   "metadata": {},
   "source": [
    "# U.S. Medical Insurance Costs\n",
    "In this project, a **CSV** file with medical insurance costs will be investigated using Python fundamentals. The goal with this project will be to analyze various attributes within **insurance.csv** to learn more about the patient information in the file and gain insight into potential use cases for the dataset."
   ]
  },
  {
   "cell_type": "code",
   "execution_count": 95,
   "metadata": {},
   "outputs": [],
   "source": [
    "# Importing CSV Library\n",
    "import csv"
   ]
  },
  {
   "cell_type": "markdown",
   "metadata": {},
   "source": [
    "The next step is to look through **insurance.csv** in order to get aquanted with the data. The following aspects of the data file will be checked in order to plan out how to import the data into a Python file:\n",
    "* The names of columns and rows\n",
    "* Any noticeable missing data\n",
    "* Types of values (numerical vs. categorical)"
   ]
  },
  {
   "cell_type": "code",
   "execution_count": 96,
   "metadata": {},
   "outputs": [],
   "source": [
    "#We are creating empty list for every column in the csv file\n",
    "ages = []\n",
    "sex = []\n",
    "bmis = []\n",
    "num_of_children = []\n",
    "smoker_status = []\n",
    "regions = []\n",
    "insurance_charges = []\n"
   ]
  },
  {
   "cell_type": "markdown",
   "metadata": {},
   "source": [
    "Then we are going to develop a function, so that we could send the information we have to the correct list. "
   ]
  },
  {
   "cell_type": "code",
   "execution_count": 97,
   "metadata": {},
   "outputs": [],
   "source": [
    "#Developing a function to append the information to the correct list\n",
    "def append_info_list(list, csv_file, column_name):\n",
    "    with open(csv_file) as csvfile:\n",
    "        reader = csv.DictReader(csvfile)\n",
    "        for row in reader:\n",
    "            list.append(row[column_name])\n",
    "    return list\n",
    "#We can use this function to append the information for any csv file, \n",
    "#to any list, and to any column name.\n",
    "#With this fuction we can avoid repeating code multiple times. "
   ]
  },
  {
   "cell_type": "markdown",
   "metadata": {},
   "source": [
    "Now we are going to append every column information to its correct list\n"
   ]
  },
  {
   "cell_type": "code",
   "execution_count": 98,
   "metadata": {},
   "outputs": [],
   "source": [
    "#We are adding the file information to the correct list\n",
    "ages = append_info_list(ages, 'insurance.csv', 'age')\n",
    "sex = append_info_list(sex, 'insurance.csv', 'sex')\n",
    "bmis = append_info_list(bmis, 'insurance.csv', 'bmi')\n",
    "num_of_children = append_info_list(num_of_children, 'insurance.csv', 'children')\n",
    "smoker_status = append_info_list(smoker_status, 'insurance.csv', 'smoker')\n",
    "regions = append_info_list(regions, 'insurance.csv', 'region')\n",
    "insurance_charges = append_info_list(insurance_charges, 'insurance.csv', 'charges')\n"
   ]
  },
  {
   "cell_type": "markdown",
   "metadata": {},
   "source": [
    "Now we are going to start our analysis. We are going to look through all the information, and get the following important information:\n",
    "* find average age of the patients\n",
    "* return the number of males vs. females counted in the dataset\n",
    "* find geographical location of the patients\n",
    "* return the average yearly medical charges of the patients\n",
    "* return the average amount of children that patients have\n",
    "* return the number of non-smokers vs smokers counted in the dataset\n",
    "* creating a dictionary that contains all patient information\n",
    "\n",
    "\n",
    "You can notice that every information we are getting on this first analysis is about the patient information, so lets begin. \n"
   ]
  },
  {
   "cell_type": "code",
   "execution_count": 99,
   "metadata": {},
   "outputs": [],
   "source": [
    "class Patinent_info:\n",
    "    #The method takes seven parameters, each representing a different aspect of patient information\n",
    "    # : ages, sexes, BMIs, number of children, smoker statuses, regions, and insurance charges. \n",
    "    # These are likely lists or similar data structures, where each index across the lists corresponds to a single patient.\n",
    "    def __init__(self, patients_ages, patients_sexes, patients_bmis, patients_num_children, \n",
    "                 patients_smoker_statuses, patients_regions, patients_charges):\n",
    "        self.patients_ages = patients_ages\n",
    "        self.patients_sexes = patients_sexes\n",
    "        self.patients_bmis = patients_bmis\n",
    "        self.patients_num_children = patients_num_children\n",
    "        self.patients_smoker_statuses = patients_smoker_statuses\n",
    "        self.patients_regions = patients_regions\n",
    "        self.patients_charges = patients_charges\n",
    "\n",
    "    \n",
    "#Function to get the average age of the patients\n",
    "    def age_analyze(self):\n",
    "        total_age = 0\n",
    "        for age in self.patients_ages:\n",
    "            total_age += int(age)\n",
    "        return (\"The average age of the patients is: \", str(round(total_age / len(self.patients_ages), 2)))\n",
    "\n",
    "    \n",
    "    #Function to get the number of males vs females counted in the dataset\n",
    "    def analyze_sexes(self):\n",
    "        # initialize number of males and females to zero\n",
    "        females = 0\n",
    "        males = 0\n",
    "        # iterate through each sex in the sexes list\n",
    "        for sex in self.patients_sexes:\n",
    "            # if female add to female variable\n",
    "            if sex == 'female':\n",
    "                females += 1\n",
    "            # if male add to male variable\n",
    "            elif sex == 'male':\n",
    "                males += 1\n",
    "        # print out the number of each\n",
    "        print(\"Count for female: \", females)\n",
    "        print(\"Count for male: \", males)\n",
    "\n",
    "    #Function to find geographical location of the patients\n",
    "    def analyze_regions(self):\n",
    "        unique_regions = []\n",
    "        for region in self.patients_regions:\n",
    "            #This will analyze if the region is already in the unique_regions list, \n",
    "            # if not it will append it to the list\n",
    "            if region not in unique_regions:\n",
    "                unique_regions.append(region)\n",
    "        return (\"The geographical locations of the patients are: \", unique_regions)\n",
    "    \n",
    "    #Function to return the average yearly medical charges of the patients\n",
    "    def analyze_charges(self):\n",
    "        total_charges = 0\n",
    "        for charge in self.patients_charges:\n",
    "            total_charges += float(charge)\n",
    "        return (\"The average yearly medical charges of the patients is: \", str(round(total_charges / len(self.patients_charges), 2)))\n",
    "    \n",
    "    #Function to return the average amount of children the patients have\n",
    "    def average_children(self):\n",
    "        total_children = 0\n",
    "        for child in self.patients_num_children:\n",
    "            total_children += int(child)\n",
    "        return (\"The average amount of children the patients have is: \", str(round(total_children / len(self.patients_num_children), 2)))\n",
    "\n",
    "    #Function to get the total smokers vs non-smokers counted in the dataset\n",
    "    def analyze_smoker_statuses(self):\n",
    "        # initialize number of smokers and non-smokers to zero\n",
    "        smokers = 0\n",
    "        non_smokers = 0\n",
    "        # iterate through each smoker status in the smoker statuses list\n",
    "        for status in self.patients_smoker_statuses:\n",
    "            # if smoker add to smoker variable\n",
    "            if status == 'yes':\n",
    "                smokers += 1\n",
    "            # if non-smoker add to non-smoker variable\n",
    "            elif status == 'no':\n",
    "                non_smokers += 1\n",
    "        # print out the number of each\n",
    "        print(\"Count for smokers: \", smokers)\n",
    "        print(\"Count for non-smokers: \", non_smokers)\n",
    "\n",
    "    #Function to create a dictionary that contains all patient information\n",
    "    def create_patient_dict(self):\n",
    "        self.patient_dict = {}\n",
    "        self.patient_dict['ages'] = [int(age) for age in self.patients_ages]\n",
    "        self.patient_dict['sex'] = [self.patients_sexes]\n",
    "        self.patient_dict['bmi'] = [self.patients_bmis]\n",
    "        self.patient_dict['num_of_children'] = [self.patients_num_children]\n",
    "        self.patient_dict['smoker_status'] = [self.patients_smoker_statuses]\n",
    "        self.patient_dict['regions'] = [self.patients_regions]\n",
    "        self.patient_dict['insurance_charges'] = [self.patients_charges]\n",
    "        return self.patient_dict\n",
    "\n"
   ]
  },
  {
   "cell_type": "markdown",
   "metadata": {},
   "source": [
    "Now that we had analyze all the information of the dataset, as we place all of it into a class, we need to call that class to see all the results:"
   ]
  },
  {
   "cell_type": "code",
   "execution_count": 101,
   "metadata": {},
   "outputs": [],
   "source": [
    "#Calling the class and its methods to see the results\n",
    "patient_info = Patinent_info(ages, sex, bmis, num_of_children, smoker_status, regions, insurance_charges)"
   ]
  },
  {
   "cell_type": "markdown",
   "metadata": {},
   "source": [
    "Now i would love to answer the following questions:\n",
    "* What is the average age of the patients in the dataset?\n",
    "* Is there more people smoker or non-smokers?\n",
    "* What are the average yearly medical charges of the patients?\n",
    "\n"
   ]
  },
  {
   "cell_type": "code",
   "execution_count": 104,
   "metadata": {},
   "outputs": [
    {
     "data": {
      "text/plain": [
       "('The average age of the patients is: ', '39.21')"
      ]
     },
     "execution_count": 104,
     "metadata": {},
     "output_type": "execute_result"
    }
   ],
   "source": [
    "#The average age of the patients in the dataset\n",
    "patient_info.age_analyze()"
   ]
  },
  {
   "cell_type": "code",
   "execution_count": 105,
   "metadata": {},
   "outputs": [
    {
     "name": "stdout",
     "output_type": "stream",
     "text": [
      "Count for smokers:  274\n",
      "Count for non-smokers:  1064\n"
     ]
    }
   ],
   "source": [
    "#Is there more people smoker or non-smokers?\n",
    "patient_info.analyze_smoker_statuses()"
   ]
  },
  {
   "cell_type": "code",
   "execution_count": 106,
   "metadata": {},
   "outputs": [
    {
     "data": {
      "text/plain": [
       "('The average yearly medical charges of the patients is: ', '13270.42')"
      ]
     },
     "execution_count": 106,
     "metadata": {},
     "output_type": "execute_result"
    }
   ],
   "source": [
    "#What are the average yearly medical charges of the patients?\n",
    "patient_info.analyze_charges()"
   ]
  },
  {
   "cell_type": "code",
   "execution_count": null,
   "metadata": {},
   "outputs": [],
   "source": []
  },
  {
   "cell_type": "code",
   "execution_count": null,
   "metadata": {},
   "outputs": [],
   "source": []
  },
  {
   "cell_type": "code",
   "execution_count": null,
   "metadata": {},
   "outputs": [],
   "source": []
  },
  {
   "cell_type": "code",
   "execution_count": null,
   "metadata": {},
   "outputs": [],
   "source": []
  }
 ],
 "metadata": {
  "kernelspec": {
   "display_name": "base",
   "language": "python",
   "name": "python3"
  },
  "language_info": {
   "codemirror_mode": {
    "name": "ipython",
    "version": 3
   },
   "file_extension": ".py",
   "mimetype": "text/x-python",
   "name": "python",
   "nbconvert_exporter": "python",
   "pygments_lexer": "ipython3",
   "version": "3.13.5"
  }
 },
 "nbformat": 4,
 "nbformat_minor": 4
}
